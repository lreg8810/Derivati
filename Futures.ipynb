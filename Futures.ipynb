{
 "cells": [
  {
   "cell_type": "markdown",
   "id": "63b9b4cd-d369-49a9-8df9-59a0aadbdb4f",
   "metadata": {
    "tags": []
   },
   "source": [
    "# calcolo del prezzo forward o prezzo dei futures"
   ]
  },
  {
   "cell_type": "markdown",
   "id": "bd43e0a1-5ba1-4a39-b76a-da71674d81cb",
   "metadata": {},
   "source": [
    "Per il calcolo del prezzo forward o prezzo dei futures (F0) sulla base del prezzo spot corrente dell'attività sottostante (S0), il tasso di interesse privo di rischio (r) e la scadenza del contratto in anni (T). La formula è espressa come:\n",
    "\n",
    "F0 = S0 × e^(r⋅T)\n",
    "\n",
    "Dove:\n",
    "\n",
    "F0 è il prezzo forward o prezzo dei futures.\n",
    "S0 è il prezzo spot corrente dell'attività sottostante.\n",
    "e è la base del logaritmo naturale (costante di Nepero, approssimativamente 2.71828).\n",
    "r è il tasso di interesse privo di rischio.\n",
    "T è la scadenza del contratto espressa in anni."
   ]
  },
  {
   "cell_type": "code",
   "execution_count": null,
   "id": "5a5c5c76-56df-4ddf-b8ae-8ba70dc1b475",
   "metadata": {},
   "outputs": [],
   "source": [
    "import math\n",
    "\n",
    "def prezzo_forward(S0, r, T):\n",
    "    F0 = S0 * math.exp(r * T)\n",
    "    return F0\n",
    "\n",
    "def main():\n",
    "    try:\n",
    "        prezzo_spot_corrente = float(input(\"Inserisci il prezzo spot corrente (S0): \"))\n",
    "        tasso_di_interesse = float(input(\"Inserisci il tasso di interesse (r): \"))\n",
    "        scadenza_contratto_anni = float(input(\"Inserisci la scadenza del contratto in anni (T): \"))\n",
    "\n",
    "        prezzo_forward_calcolato = prezzo_forward(prezzo_spot_corrente, tasso_di_interesse, scadenza_contratto_anni)\n",
    "        print(\"Prezzo forward calcolato:\", prezzo_forward_calcolato)\n",
    "\n",
    "    except ValueError:\n",
    "        print(\"Errore: assicurati di inserire valori numerici validi.\")\n",
    "\n",
    "if __name__ == \"__main__\":\n",
    "    main()\n"
   ]
  },
  {
   "cell_type": "markdown",
   "id": "dbdcd6a0-b227-4a5c-ba8d-2882cc545ca5",
   "metadata": {},
   "source": [
    "Il prezzo di un forward che offre un dividendo con valore attuale 𝐼 allora è pari a\n",
    "\n",
    "𝐹0 = (𝑆0 − 𝐼) ∗ 𝑒^(𝑟⋅𝑇)\n",
    "\n",
    "L’equazione appena indicata vale per ogni bene di investimento che offre il reddito noto.\n"
   ]
  },
  {
   "cell_type": "code",
   "execution_count": null,
   "id": "a1cb0c74-b05c-4d62-8b73-8459b234218b",
   "metadata": {},
   "outputs": [],
   "source": [
    "import math\n",
    "\n",
    "def prezzo_forward(S0, I, r, T):\n",
    "    F0 = (S0 - I) * math.exp(r * T)\n",
    "    return F0\n",
    "\n",
    "def main():\n",
    "    try:\n",
    "        prezzo_spot_corrente = float(input(\"Inserisci il prezzo spot corrente (S0): \"))\n",
    "        eventuale_dividendo = float(input(\"Inserisci l'eventuale dividendo o rendimento (I): \"))\n",
    "        tasso_di_interesse = float(input(\"Inserisci il tasso di interesse (r): \"))\n",
    "        scadenza_contratto_anni = float(input(\"Inserisci la scadenza del contratto in anni (T): \"))\n",
    "\n",
    "        prezzo_forward_calcolato = prezzo_forward(prezzo_spot_corrente, eventuale_dividendo, tasso_di_interesse, scadenza_contratto_anni)\n",
    "        print(\"Prezzo forward calcolato:\", prezzo_forward_calcolato)\n",
    "\n",
    "    except ValueError:\n",
    "        print(\"Errore: assicurati di inserire valori numerici validi.\")\n",
    "\n",
    "if __name__ == \"__main__\":\n",
    "    main()\n"
   ]
  },
  {
   "cell_type": "markdown",
   "id": "b762e4c5-3425-4845-acfb-58b8db3d2bf1",
   "metadata": {},
   "source": [
    "## Valore dei contratti \n"
   ]
  },
  {
   "cell_type": "markdown",
   "id": "6216d642-6bd1-4db5-8ba1-0e47629fb71b",
   "metadata": {},
   "source": [
    "I forward quando vengono negoziati hanno un valore nullo e successivamente potranno avere un \n",
    "valore positivo o negativo e adottando la metodologia vista in precedenza si osservi che:\n",
    "\n",
    "𝑓 = (𝐹0 − 𝑋) ∗ 𝑒^(−𝑟𝑇)\n",
    "\n",
    "dove:\n",
    "\n",
    "𝑓 rappresenta il valore corrente della posizione lunga del contratto forward con prezzo di consegna 𝑋.\n",
    "\n",
    "𝐹0 è il prezzo forward negoziato inizialmente, che viene posto uguale al prezzo di consegna 𝑋 al momento della negoziazione del contratto.\n",
    "\n",
    "𝑋 è il prezzo di consegna del contratto forward, che rimane inalterato nel tempo.\n",
    "\n",
    "𝑟 è il tasso di interesse privo di rischio valido per la scadenza del contratto.\n",
    "\n",
    "𝑇 è il periodo di tempo fino alla scadenza del contratto, espresso in anni.\n",
    "\n",
    "L'equazione descrive come il valore della posizione lunga (f) cambia nel tempo in base alle variazioni del prezzo forward (F0) rispetto al prezzo di consegna (X) e al tasso di interesse (r).\n",
    "\n",
    "Quando il prezzo futures cambia, il guadagno/perdita sui futures viene calcolato \n",
    "∆𝑝𝑟𝑒𝑧𝑧𝑜 ∗ 𝑑𝑖𝑚𝑒𝑛𝑠𝑖𝑜𝑛𝑒 𝑑𝑒𝑙 𝑐𝑜𝑛𝑡𝑟𝑎𝑡𝑡𝑜\n",
    "Il guadagno/perdita vengono contabilizzati immediatamente dato che i futures vengono liquidati \n",
    "giornalmente"
   ]
  },
  {
   "cell_type": "code",
   "execution_count": null,
   "id": "97616bbc-22ce-46f7-8d0e-68eb7904e533",
   "metadata": {},
   "outputs": [],
   "source": [
    "import math\n",
    "\n",
    "def valore_posizione_lunga(F0, X, r, T):\n",
    "    f = (F0 - X) * math.exp(-r * T)\n",
    "    return f\n",
    "\n",
    "def main():\n",
    "    try:\n",
    "        F0 = float(input(\"Inserisci il prezzo forward iniziale (F0): \"))\n",
    "        X = float(input(\"Inserisci il prezzo di consegna del contratto forward (X): \"))\n",
    "        r = float(input(\"Inserisci il tasso di interesse (r): \"))\n",
    "        T = float(input(\"Inserisci il periodo di tempo fino alla scadenza del contratto (T in anni): \"))\n",
    "\n",
    "        valore_posizione_corrente = valore_posizione_lunga(F0, X, r, T)\n",
    "        print(\"Valore corrente della posizione lunga (f):\", valore_posizione_corrente)\n",
    "\n",
    "    except ValueError:\n",
    "        print(\"Errore: assicurati di inserire valori numerici validi.\")\n",
    "\n",
    "if __name__ == \"__main__\":\n",
    "    main()\n"
   ]
  },
  {
   "cell_type": "markdown",
   "id": "3db875c9-10ed-4a5b-abd7-a7313de5974e",
   "metadata": {},
   "source": [
    "## marking to market"
   ]
  },
  {
   "cell_type": "markdown",
   "id": "bb0ea441-ea16-45a6-b9e4-78c069aedeec",
   "metadata": {},
   "source": [
    "Per fornire un esempio concreto di marking to market in un contratto futures, consideriamo il seguente scenario:\n",
    "\n",
    "Supponiamo di avere un contratto futures sull'indice azionario S&P 500 con le seguenti specifiche:\n",
    "- Dimensione del contratto: 10 unità dell'indice S&P 500.\n",
    "\n",
    "- Prezzo futuro iniziale (F0): 4,000 punti.\n",
    "\n",
    "- Margine iniziale richiesto dalla Clearing House: $10,000.\n",
    "\n",
    "- Margine di mantenimento  ( 15% della margine iniziale):  $1,500.\n",
    "\n",
    "Giorno 1:\n",
    "Inizialmente, apriamo una posizione lunga sul contratto futures sull'indice S&P 500. Il prezzo futuro iniziale (F0) è di 4,000 punti, e pertanto il valore della posizione lunga (f) sarà:\n",
    "\n",
    "- f=(F0−X)×Dimensione del contratto=(4,000−4,000)×10=0\n",
    "\n",
    "Il valore della posizione lunga è zero perché il prezzo futuro iniziale (F0) corrisponde al prezzo di consegna (X) al momento della negoziazione.\n",
    "\n",
    "Giorno 2:\n",
    "Il prezzo futuro dell'indice S&P 500 aumenta a 4,050 punti. Il valore della posizione lunga (f) sarà:\n",
    "\n",
    "- f=(F0−X)×Dimensione del contratto=(4,050−4,000)×10=500\n",
    "\n",
    "Poiché il valore della posizione lunga è aumentato a 500, supera il margine iniziale richiesto di $10,000. In questo caso, non è necessario fornire ulteriori fondi poiché il valore della posizione rimane sopra il margine iniziale.\n",
    "\n",
    "Giorno 3:\n",
    "Il prezzo futuro dell'indice S&P 500 scende a 3,950 punti. Il valore della posizione lunga (f) sarà:\n",
    "\n",
    "- f=(F0−X)×Dimensione del contratto=(3,950−4,000)×10=−500\n",
    "\n",
    "Poiché il valore della posizione lunga è sceso a -500, è sceso al di sotto del margine di mantenimento di $1,500. In questo caso, dovrai fornire ulteriori fondi per soddisfare il margine di mantenimento.\n",
    "\n",
    "Se non fornisci i fondi aggiuntivi per soddisfare il margine di mantenimento, la Clearing House invierà una chiamata di margine (\"margin call\") per richiedere il pagamento. Se non soddisferai ancora il margine di mantenimento, la Clearing House potrebbe chiudere automaticamente la tua posizione per evitare ulteriori perdite.\n",
    "\n",
    "Questo esempio dimostra come il marking to market funziona nel contratto futures. Ogni giorno, il valore della posizione viene calcolato in base al prezzo futuro corrente e viene confrontato con i requisiti di margine. Se il valore della posizione supera il margine iniziale, non sono richiesti ulteriori fondi. Se il valore della posizione scende al di sotto del margine di mantenimento, sono richiesti fondi aggiuntivi per soddisfare il margine richiesto."
   ]
  },
  {
   "cell_type": "code",
   "execution_count": null,
   "id": "51b55f53-097e-4171-a538-5a154268dbc1",
   "metadata": {},
   "outputs": [],
   "source": [
    "def calculate_position_value(future_price, contract_size, initial_margin, maintenance_margin):\n",
    "    # Calcolo del valore della posizione\n",
    "    position_value = (future_price - initial_price) * contract_size\n",
    "\n",
    "    # Verifica se il valore della posizione supera il margine iniziale\n",
    "    if position_value >= initial_margin:\n",
    "        print(\"La posizione è sopra il margine iniziale, nessun ulteriore finanziamento richiesto.\")\n",
    "    else:\n",
    "        # Verifica se il valore della posizione scende al di sotto del margine di mantenimento\n",
    "        if position_value < maintenance_margin:\n",
    "            print(\"La posizione è scesa al di sotto del margine di mantenimento.\")\n",
    "            required_funds = maintenance_margin - position_value\n",
    "            print(f\"Devi fornire ulteriori fondi: ${required_funds:.2f}\")\n",
    "        else:\n",
    "            print(\"La posizione è ancora sopra il margine di mantenimento, nessun finanziamento aggiuntivo richiesto.\")\n",
    "\n",
    "# Specifiche del contratto futures\n",
    "initial_price = 4000\n",
    "contract_size = 10\n",
    "initial_margin = 10000\n",
    "maintenance_margin = 1500\n",
    "\n",
    "# Input dei prezzi futuri per ogni giorno di simulazione\n",
    "print(\"Inserisci il prezzo futuro per il Giorno 1:\")\n",
    "future_price_day1 = float(input())\n",
    "print(\"Inserisci il prezzo futuro per il Giorno 2:\")\n",
    "future_price_day2 = float(input())\n",
    "print(\"Inserisci il prezzo futuro per il Giorno 3:\")\n",
    "future_price_day3 = float(input())\n",
    "\n",
    "# Giorno 1\n",
    "print(\"\\nGiorno 1:\")\n",
    "calculate_position_value(future_price_day1, contract_size, initial_margin, maintenance_margin)\n",
    "\n",
    "# Giorno 2\n",
    "print(\"\\nGiorno 2:\")\n",
    "calculate_position_value(future_price_day2, contract_size, initial_margin, maintenance_margin)\n",
    "\n",
    "# Giorno 3\n",
    "print(\"\\nGiorno 3:\")\n",
    "calculate_position_value(future_price_day3, contract_size, initial_margin, maintenance_margin)\n"
   ]
  },
  {
   "cell_type": "code",
   "execution_count": null,
   "id": "29713132-75d3-4cb7-8e5d-a9b216830d89",
   "metadata": {},
   "outputs": [],
   "source": []
  }
 ],
 "metadata": {
  "kernelspec": {
   "display_name": "Python 3 (ipykernel)",
   "language": "python",
   "name": "python3"
  },
  "language_info": {
   "codemirror_mode": {
    "name": "ipython",
    "version": 3
   },
   "file_extension": ".py",
   "mimetype": "text/x-python",
   "name": "python",
   "nbconvert_exporter": "python",
   "pygments_lexer": "ipython3",
   "version": "3.9.13"
  }
 },
 "nbformat": 4,
 "nbformat_minor": 5
}
